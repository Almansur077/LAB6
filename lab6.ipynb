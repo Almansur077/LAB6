{
 "cells": [
  {
   "cell_type": "code",
   "execution_count": 2,
   "id": "8d531e2e-30c2-48d6-9d88-f850700ffa21",
   "metadata": {},
   "outputs": [
    {
     "name": "stdout",
     "output_type": "stream",
     "text": [
      "120\n"
     ]
    }
   ],
   "source": [
    "import math\n",
    "\n",
    "numbers = [2, 3, 4, 5]  \n",
    "result = math.prod(numbers)  \n",
    "print(result)  "
   ]
  },
  {
   "cell_type": "code",
   "execution_count": 4,
   "id": "f5702b5f-1789-4937-8ad7-56f63e157286",
   "metadata": {},
   "outputs": [
    {
     "name": "stdin",
     "output_type": "stream",
     "text": [
      " LOLaleke\n"
     ]
    },
    {
     "name": "stdout",
     "output_type": "stream",
     "text": [
      "Big letters 3 Small letters 5\n"
     ]
    }
   ],
   "source": [
    "a=input()\n",
    "big=0\n",
    "small=0\n",
    "for i in range(len(a)):\n",
    "    if (a[i].isupper()):\n",
    "        big+=1\n",
    "    else:\n",
    "        small+=1\n",
    "print(\"Big letters\",big,\"Small letters\",small)\n"
   ]
  },
  {
   "cell_type": "code",
   "execution_count": 6,
   "id": "3afbaaad-1c9a-44f6-be99-b1716fcf104d",
   "metadata": {},
   "outputs": [
    {
     "name": "stdin",
     "output_type": "stream",
     "text": [
      " qazaq\n"
     ]
    },
    {
     "name": "stdout",
     "output_type": "stream",
     "text": [
      "True\n"
     ]
    }
   ],
   "source": [
    "a=input()\n",
    "if (a==a[::-1]):\n",
    "    print(\"True\")\n",
    "else:\n",
    "    print(\"False\")"
   ]
  },
  {
   "cell_type": "code",
   "execution_count": 2,
   "id": "965a57ab-46af-46be-bed0-cb763363a29c",
   "metadata": {},
   "outputs": [
    {
     "name": "stdin",
     "output_type": "stream",
     "text": [
      " 100\n",
      " 600\n"
     ]
    },
    {
     "name": "stdout",
     "output_type": "stream",
     "text": [
      "Square root of 100 after 600 milliseconds is 10.0\n"
     ]
    }
   ],
   "source": [
    "import time\n",
    "import math\n",
    "num = int(input()) \n",
    "delay = int(input()) \n",
    "time.sleep(delay / 1000)\n",
    "result = math.sqrt(num)\n",
    "print(f\"Square root of {num} after {delay} milliseconds is {result}\")\n"
   ]
  },
  {
   "cell_type": "code",
   "execution_count": 4,
   "id": "3f9cadde-8693-4950-8170-9f9c7ef17733",
   "metadata": {},
   "outputs": [
    {
     "name": "stdout",
     "output_type": "stream",
     "text": [
      "True\n"
     ]
    }
   ],
   "source": [
    "t = (1, True, \"Hello\") \n",
    "\n",
    "result = all(t)\n",
    "\n",
    "print(result) \n"
   ]
  },
  {
   "cell_type": "code",
   "execution_count": null,
   "id": "721515bb-c26d-45ab-a1cd-b6586ca2853f",
   "metadata": {},
   "outputs": [],
   "source": []
  }
 ],
 "metadata": {
  "kernelspec": {
   "display_name": "Python [conda env:base] *",
   "language": "python",
   "name": "conda-base-py"
  },
  "language_info": {
   "codemirror_mode": {
    "name": "ipython",
    "version": 3
   },
   "file_extension": ".py",
   "mimetype": "text/x-python",
   "name": "python",
   "nbconvert_exporter": "python",
   "pygments_lexer": "ipython3",
   "version": "3.12.7"
  }
 },
 "nbformat": 4,
 "nbformat_minor": 5
}
